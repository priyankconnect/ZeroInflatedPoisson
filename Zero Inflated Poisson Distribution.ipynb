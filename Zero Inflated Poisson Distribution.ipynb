{
 "cells": [
  {
   "cell_type": "markdown",
   "id": "42dc2dac",
   "metadata": {},
   "source": [
    "Please refer to the theory at https://priyankstatisticsblog.blogspot.com/2023/07/zero-inflated-poisson-distribution-what.html "
   ]
  },
  {
   "cell_type": "code",
   "execution_count": 114,
   "id": "df00c475",
   "metadata": {},
   "outputs": [
    {
     "name": "stdout",
     "output_type": "stream",
     "text": [
      "Optimization terminated successfully.\n",
      "         Current function value: 1.341098\n",
      "         Iterations: 13\n",
      "         Function evaluations: 14\n",
      "         Gradient evaluations: 14\n",
      "Optimization terminated successfully.\n",
      "         Current function value: 1.342993\n",
      "         Iterations 1\n",
      "The ZIP model provides a better fit to the data.\n"
     ]
    }
   ],
   "source": [
    "import numpy as np\n",
    "import statsmodels.api as sm\n",
    "\n",
    "data = np.array([1,0,1,0,2,1,0,0,1,0,1,1,0,0,1,1,0,1,1,3,1,2,0,0,0,2,3,3,0,4,1])\n",
    "\n",
    "# Fit the ZIP model to the data\n",
    "zip_model = sm.ZeroInflatedPoisson(data, exog=np.ones(len(data))).fit()\n",
    "\n",
    "# Get the AIC value of the ZIP model\n",
    "aic_zip = zip_model.aic\n",
    "\n",
    "# Fit a Poisson model to the data for comparison\n",
    "poisson_model = sm.Poisson(data, exog=np.ones(len(data))).fit()\n",
    "\n",
    "# Get the AIC value of the Poisson model\n",
    "aic_poisson = poisson_model.aic\n",
    "\n",
    "# Compare the AIC values\n",
    "if aic_zip < aic_poisson:\n",
    "    print(\"The ZIP model provides a better fit to the data.\")\n",
    "else:\n",
    "    print(\"The Poisson model provides a better fit to the data.\")\n"
   ]
  },
  {
   "cell_type": "code",
   "execution_count": 116,
   "id": "1f0ee07a",
   "metadata": {},
   "outputs": [
    {
     "name": "stdout",
     "output_type": "stream",
     "text": [
      "Proportion of zero counts: 0.3870967741935484\n"
     ]
    }
   ],
   "source": [
    "import numpy as np\n",
    "\n",
    "data = np.array([1,0,1,0,2,1,0,0,1,0,1,1,0,0,1,1,0,1,1,3,1,2,0,0,0,2,3,3,0,4,1])\n",
    "\n",
    "# Count the occurrences of zero in the data\n",
    "num_zeros = np.count_nonzero(data == 0)\n",
    "\n",
    "# Calculate the total number of data points\n",
    "total_data_points = len(data)\n",
    "\n",
    "# Calculate the proportion of zero counts\n",
    "proportion_of_zeros = num_zeros / total_data_points\n",
    "\n",
    "print(\"Proportion of zero counts:\", proportion_of_zeros)\n"
   ]
  },
  {
   "cell_type": "code",
   "execution_count": 117,
   "id": "5714eb4b",
   "metadata": {},
   "outputs": [
    {
     "name": "stdout",
     "output_type": "stream",
     "text": [
      "Poisson parameter (λ) estimate: 1.631578947368421\n"
     ]
    }
   ],
   "source": [
    "import numpy as np\n",
    "\n",
    "data = np.array([1,0,1,0,2,1,0,0,1,0,1,1,0,0,1,1,0,1,1,3,1,2,0,0,0,2,3,3,0,4,1])\n",
    "\n",
    "# Filter non-zero counts from the data\n",
    "non_zero_counts = data[data > 0]\n",
    "\n",
    "# Calculate the average of non-zero counts to estimate λ\n",
    "lambda_estimate = np.mean(non_zero_counts)\n",
    "\n",
    "print(\"Poisson parameter (λ) estimate:\", lambda_estimate)\n"
   ]
  },
  {
   "cell_type": "code",
   "execution_count": 162,
   "id": "ec99f1dc",
   "metadata": {},
   "outputs": [
    {
     "name": "stdout",
     "output_type": "stream",
     "text": [
      "Total data Points 31\n",
      "Proportion of zeros Observsed 0.3870967741935484\n",
      "No of zeros Observed 12.0\n",
      "Proportion of zeros as per Poisson 0.19562045574649373\n",
      "No of zeros as per Poisson 6.0642341281413055\n",
      "Probability of excess zeroes: 0.19147631844705465\n",
      "Optimization terminated successfully.\n",
      "         Current function value: 1.341098\n",
      "         Iterations: 13\n",
      "         Function evaluations: 14\n",
      "         Gradient evaluations: 14\n",
      "zip model                      ZeroInflatedPoisson Regression Results                    \n",
      "===============================================================================\n",
      "Dep. Variable:                       y   No. Observations:                   31\n",
      "Model:             ZeroInflatedPoisson   Df Residuals:                       30\n",
      "Method:                            MLE   Df Model:                            0\n",
      "Date:                 Sun, 23 Jul 2023   Pseudo R-squ.:               3.210e-13\n",
      "Time:                         11:57:38   Log-Likelihood:                -41.574\n",
      "converged:                        True   LL-Null:                       -41.574\n",
      "Covariance Type:             nonrobust   LLR p-value:                       nan\n",
      "=================================================================================\n",
      "                    coef    std err          z      P>|z|      [0.025      0.975]\n",
      "---------------------------------------------------------------------------------\n",
      "inflate_const    -2.5986      2.062     -1.260      0.208      -6.640       1.442\n",
      "const             0.0717      0.186      0.386      0.699      -0.292       0.436\n",
      "=================================================================================\n",
      "Average No of Sales when it Happens: 0.07174138982704338\n",
      "[1 5 1 ... 2 1 5]\n",
      "Probability of having 5 or more excess zeros than predicted by Poisson: 0.0558\n"
     ]
    }
   ],
   "source": [
    "import numpy as np\n",
    "import statsmodels.api as sm\n",
    "\n",
    "data = np.array([1,0,1,0,2,1,0,0,1,0,1,1,0,0,1,1,0,1,1,3,1,2,0,0,0,2,3,3,0,4,1])\n",
    "\n",
    "# Count the occurrences of zero in the data\n",
    "num_zeros = np.count_nonzero(data == 0)\n",
    "\n",
    "# Calculate the total number of data points\n",
    "total_data_points = len(data)\n",
    "print('Total data Points',total_data_points)\n",
    "# Calculate the proportion of zero counts observed in the data\n",
    "proportion_of_zeros_observed = num_zeros / total_data_points\n",
    "print(\"Proportion of zeros Observsed\",proportion_of_zeros_observed)\n",
    "print(\"No of zeros Observed\",proportion_of_zeros_observed*total_data_points)\n",
    "\n",
    "# Estimate the Poisson parameter (λ) from non-zero counts\n",
    "non_zero_counts = data[data > 0]\n",
    "lambda_estimate = np.mean(non_zero_counts)\n",
    "\n",
    "# Calculate the proportion of zero counts expected from the Poisson distribution\n",
    "proportion_of_zeros_poisson = np.exp(-lambda_estimate)\n",
    "print(\"Proportion of zeros as per Poisson\",proportion_of_zeros_poisson)\n",
    "print(\"No of zeros as per Poisson\",proportion_of_zeros_poisson*total_data_points)\n",
    "\n",
    "# Calculate the probability of excess zeroes\n",
    "probability_excess_zeroes = proportion_of_zeros_observed - proportion_of_zeros_poisson\n",
    "\n",
    "print(\"Probability of excess zeroes:\", probability_excess_zeroes)\n",
    "\n",
    "# Fit the ZIP model to the data\n",
    "zip_model = sm.ZeroInflatedPoisson(data, exog=np.ones(len(data))).fit()\n",
    "print('zip model',zip_model.summary())\n",
    "\n",
    "# Number of simulations\n",
    "num_simulations = 10000\n",
    "\n",
    "# Get the Poisson parameter (λ) estimate from the fitted ZIP model\n",
    "lambda_estimate = zip_model.params[1]\n",
    "print(\"Average No of Sales when it Happens:\",lambda_estimate)\n",
    "# Simulate data from the ZIP model using NumPy's random generator functions\n",
    "random_data = np.random.poisson(lambda_estimate, size=(num_simulations, len(data)))\n",
    "random_inflated = np.random.random(size=(num_simulations, len(data))) > zip_model.params[0]\n",
    "\n",
    "# Combine the random data and inflated indicators to get the simulated ZIP data\n",
    "simulated_data = np.where(random_inflated, 0, random_data)\n",
    "\n",
    "# Calculate the number of excess zeros in each simulated dataset\n",
    "num_excess_zeros = np.sum(simulated_data == 0, axis=1) - np.sum(np.random.poisson(lambda_estimate, size=(num_simulations, len(data))) == 0, axis=1)\n",
    "print(num_excess_zeros)\n",
    "# Calculate the probability of observing 5 or more excess zeros\n",
    "probability_5_or_more_excess_zeros = np.mean(num_excess_zeros >= 5)\n",
    "\n",
    "print(f\"Probability of having 5 or more excess zeros than predicted by Poisson:\", probability_5_or_more_excess_zeros)\n",
    "\n"
   ]
  },
  {
   "cell_type": "code",
   "execution_count": null,
   "id": "d86222e3",
   "metadata": {},
   "outputs": [],
   "source": []
  }
 ],
 "metadata": {
  "kernelspec": {
   "display_name": "Python 3 (ipykernel)",
   "language": "python",
   "name": "python3"
  },
  "language_info": {
   "codemirror_mode": {
    "name": "ipython",
    "version": 3
   },
   "file_extension": ".py",
   "mimetype": "text/x-python",
   "name": "python",
   "nbconvert_exporter": "python",
   "pygments_lexer": "ipython3",
   "version": "3.10.9"
  }
 },
 "nbformat": 4,
 "nbformat_minor": 5
}
